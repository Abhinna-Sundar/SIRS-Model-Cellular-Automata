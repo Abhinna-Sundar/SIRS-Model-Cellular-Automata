{
 "cells": [
  {
   "cell_type": "markdown",
   "metadata": {},
   "source": [
    "# SIRS Model (Epidemic Spread)\n",
    "\n",
    "### Author: Abhinna Sundar\n",
    "### This program is based on Cellular Automata "
   ]
  },
  {
   "cell_type": "markdown",
   "metadata": {},
   "source": [
    "### Deterministic spreading"
   ]
  },
  {
   "cell_type": "code",
   "execution_count": 272,
   "metadata": {},
   "outputs": [],
   "source": [
    "import matplotlib.pyplot as plt\n",
    "import time\n",
    "import sys\n",
    "import numpy as np\n",
    "from matplotlib import cm \n",
    "from matplotlib.colors import ListedColormap\n",
    "import os\n",
    "import random\n",
    "\n",
    "cmap = ListedColormap(['w', 'k', 'r'])\n",
    "\n",
    "def progressbar(it, prefix=\"\", size=60, file=sys.stdout):\n",
    "    count = len(it)\n",
    "    def show(j):\n",
    "        x = int(size*j/count)\n",
    "        file.write(\"%s[%s%s] %i/%i\\r\" % (prefix, \"#\"*x, \".\"*(size-x), j, count))\n",
    "        file.flush()        \n",
    "    show(0)\n",
    "    for i, item in enumerate(it):\n",
    "        yield item\n",
    "        show(i+1)\n",
    "    file.write(\"\\n\")\n",
    "    file.flush()\n",
    "\n",
    "def create_world(n, q):\n",
    "    world = np.zeros((n+2, n+2))\n",
    "    forest = world[1:-1, 1:-1]\n",
    "    forest[:, :] = np.random.choice([0, 1], p=[1-q, q], size=(n, n))\n",
    "    return world    \n",
    "    \n",
    "def Matrix(n):\n",
    "    A= np.zeros((n,n), int)    # defining a matrix \n",
    "    \n",
    "    # Boundary conditions\n",
    "    for i in range(len(A)-1):\n",
    "        A[0][i]=0\n",
    "        A[n-1][i]=0\n",
    "        A[i][0]=0\n",
    "        A[i][n-1]=0\n",
    "\n",
    "   # initial conditions\n",
    "    A[60][65]=1\n",
    "    A[55][20]=1\n",
    "    A[10][60]=1\n",
    "    A[35][30]=1\n",
    "    A[5][25]=1\n",
    "    A[65][45]=1\n",
    "    A[40][55]=1\n",
    "    A[20][40]=1\n",
    "    A[45][5]=1\n",
    "    A[20][10]=1\n",
    "    return A\n",
    "\n",
    "def Count_Infected(Arr):\n",
    "    count=0\n",
    "    for i in Arr:\n",
    "        if i>0 and i<5:\n",
    "            count+=1\n",
    "    return count        \n",
    "\n",
    "\n",
    "def neighboursvalue(m, i, j):  #gives the value of neighbours (8 in total)\n",
    "    return [m[x][y] for x in [i-1,i,i+1] for y in [j-1,j,j+1] if x in range(0,len(m)) and y in range(0,len(m[x])) and (x,y) != (i,j)]\n",
    "\n",
    "def SIRS(A, t_i, t_r): #input- matrix, t_i, t_r\n",
    "    \n",
    "    t_0 = t_i + t_r\n",
    "    B= A.copy()\n",
    "    k={1,2,3,4}\n",
    "    for i in range(1, len(A)-1):\n",
    "        for j in range(1, len(A)-1):\n",
    "            \n",
    "            if (((B[i][j]/t_0 - B[i][j]//t_0)==0)):\n",
    "                n = set(neighboursvalue(A,i,j)) \n",
    "                if (len(n.intersection(k))!=0):\n",
    "                    B[i][j] = 1\n",
    "                else:\n",
    "                    B[i][j] = 0\n",
    "            else:\n",
    "                B[i][j]+=1           \n",
    "\n",
    "    C = B.copy()        #creating copy of B matrix to impose conditions\n",
    "    sus=[]\n",
    "    ref=[]\n",
    "    inf=[]\n",
    "    \n",
    "    for i in range(1, len(B)-1):\n",
    "        for j in range(1, len(B)-1):\n",
    "            if((B[i][j]/t_0 - B[i][j]//t_0)==0):        # Susceptible stage (t=0)\n",
    "                C[i][j] =0\n",
    "                sus.append(0)\n",
    "            elif((B[i][j]/t_0 - B[i][j]//t_0)>0 and (B[i][j]/t_0 - B[i][j]//t_0) <= t_i/t_0):  # Infected stage (1<=t<=4)\n",
    "                C[i][j] =2\n",
    "                inf.append(2)\n",
    "            elif((B[i][j]/t_0 - B[i][j]//t_0)>t_i/t_0 and (B[i][j]/t_0 - B[i][j]//t_0) <= t_i +t_r/t_0):   # Refractory stage (5<=t<=9)\n",
    "                C[i][j] =1\n",
    "                ref.append(1)\n",
    "\n",
    "    tot_sus = len(sus)\n",
    "    tot_ref = len(ref)\n",
    "    tot_inf = len(inf)\n",
    "                \n",
    "\n",
    "    return B, C, tot_sus, tot_ref, tot_inf  "
   ]
  },
  {
   "cell_type": "code",
   "execution_count": 273,
   "metadata": {},
   "outputs": [
    {
     "data": {
      "image/png": "[encoded data removed]",
      "text/plain": [
       "<Figure size 288x288 with 2 Axes>"
      ]
     },
     "metadata": {
      "needs_background": "light"
     },
     "output_type": "display_data"
    }
   ],
   "source": [
    "A= Matrix(75)\n",
    "t_i= 2\n",
    "t_r= 11\n",
    "\n",
    "plt.matshow(A, cmap=cmap)\n",
    "plt.suptitle('Day = 1')\n",
    "plt.colorbar()\n",
    "save_results_to = 'D:/IISER Mohali Majors/Sem VIII/IDC 621 Modelling Complex Systems/Cellular Atomata/Plots/Moore_scaled/2and11/'\n",
    "plt.savefig(save_results_to + 'Day 1.png', dpi = 300)\n",
    "#plt.close()\n",
    "plt.show()"
   ]
  },
  {
   "cell_type": "code",
   "execution_count": 274,
   "metadata": {
    "scrolled": true
   },
   "outputs": [
    {
     "name": "stdout",
     "output_type": "stream",
     "text": [
      "Computing: [##################################################] 100/100\n"
     ]
    }
   ],
   "source": [
    "susceptible=[]\n",
    "refractory=[]\n",
    "infected=[]\n",
    "for i in progressbar(range(100), \"Computing: \", 50):\n",
    "    \n",
    "    plt.matshow(SIRS(A, t_i, t_r)[1] ,cmap=cmap)\n",
    "    plt.colorbar()\n",
    "    plt.suptitle('Day '+str(i+2))\n",
    "    save_results_to = 'D:/IISER Mohali Majors/Sem VIII/IDC 621 Modelling Complex Systems/Cellular Atomata/Plots/Moore_scaled/2and11/'\n",
    "    plt.savefig(save_results_to + 'Day '+str(i+2)+'.png', dpi = 300)\n",
    "    plt.close()\n",
    "\n",
    "    A= SIRS(A, t_i, t_r)[0]\n",
    "    susceptible.append(SIRS(A, t_i, t_r)[2])\n",
    "    refractory.append(SIRS(A, t_i, t_r)[3])\n",
    "    infected.append(SIRS(A, t_i, t_r)[4])\n",
    "#    plt.close()\n",
    "    \n",
    "    time.sleep(0.1)"
   ]
  },
  {
   "cell_type": "code",
   "execution_count": 275,
   "metadata": {
    "scrolled": true
   },
   "outputs": [
    {
     "data": {
      "image/png": "[encoded data removed]",
      "text/plain": [
       "<Figure size 432x288 with 1 Axes>"
      ]
     },
     "metadata": {
      "needs_background": "light"
     },
     "output_type": "display_data"
    }
   ],
   "source": [
    "days= np.linspace(1, len(infected), len(infected))\n",
    "plt.suptitle('Frequency of Individuals with Time (in days)')\n",
    "plt.ylabel('No. of Individuals')\n",
    "plt.xlabel('Time (in days)')\n",
    "plt.plot(days, susceptible, color='b')\n",
    "plt.plot(days, refractory, color='g')\n",
    "plt.plot(days, infected, color='r')\n",
    "plt.legend(['susceptible','refractory','infected'])\n",
    "save_results_to = 'D:/IISER Mohali Majors/Sem VIII/IDC 621 Modelling Complex Systems/Cellular Atomata/Plots/Moore_scaled/2and11/'\n",
    "plt.savefig(save_results_to + 'Deterministic_Plot.png', dpi = 300)\n",
    "#plt.close()\n",
    "plt.show()"
   ]
  },
  {
   "cell_type": "markdown",
   "metadata": {},
   "source": [
    "### Probabilistic spreading "
   ]
  },
  {
   "cell_type": "code",
   "execution_count": 195,
   "metadata": {},
   "outputs": [],
   "source": [
    "import matplotlib.pyplot as plt\n",
    "import time\n",
    "import sys\n",
    "import numpy as np\n",
    "from matplotlib import cm \n",
    "from matplotlib.colors import ListedColormap\n",
    "import random\n",
    "import os\n",
    "\n",
    "cmap = ListedColormap(['w', 'k', 'r'])\n",
    "\n",
    "def progressbar(it, prefix=\"\", size=60, file=sys.stdout):\n",
    "    count = len(it)\n",
    "    def show(j):\n",
    "        x = int(size*j/count)\n",
    "        file.write(\"%s[%s%s] %i/%i\\r\" % (prefix, \"#\"*x, \".\"*(size-x), j, count))\n",
    "        file.flush()        \n",
    "    show(0)\n",
    "    for i, item in enumerate(it):\n",
    "        yield item\n",
    "        show(i+1)\n",
    "    file.write(\"\\n\")\n",
    "    file.flush()\n",
    "\n",
    "def removeDuplicates(lst): \n",
    "      \n",
    "    return [t for t in (set(tuple(i) for i in lst))]\n",
    "\n",
    "def random_neighbours(i,j):\n",
    "    m = indexes(i,j)\n",
    "    k = random.randint(1,8)\n",
    "    sampling = random.choices(m,k=k)\n",
    "    unique=removeDuplicates(sampling)\n",
    "#np.random.choice(m, 3, p=[0.125, 0.125, 0.125, 0.125, 0.125, 0.125, 0.125, 0.125])\n",
    "    return(unique)  \n",
    "    \n",
    "def Matrix(n):\n",
    "    A= np.zeros((n,n), int)    # defining a matrix \n",
    "    \n",
    "    # Boundary conditions\n",
    "    for i in range(len(A)-1):\n",
    "        A[0][i]=0\n",
    "        A[n-1][i]=0\n",
    "        A[i][0]=0\n",
    "        A[i][n-1]=0\n",
    "\n",
    "   # initial conditions\n",
    "    A[60][65]=1\n",
    "    A[55][20]=1\n",
    "    A[10][60]=1\n",
    "    A[35][30]=1\n",
    "    A[5][25]=1\n",
    "    A[65][45]=1\n",
    "    A[40][55]=1\n",
    "    A[20][40]=1\n",
    "    A[45][5]=1\n",
    "    A[20][10]=1\n",
    "    return A\n",
    "\n",
    "def Count_Infected(Arr):\n",
    "    count=0\n",
    "    for i in Arr:\n",
    "        if i>0 and i<5:\n",
    "            count+=1\n",
    "    return count        \n",
    "\n",
    "\n",
    "def neighboursvalue(m, i, j):  #gives the value of neighbours (8 in total)\n",
    "    return [m[x][y] for x in [i-1,i,i+1] for y in [j-1,j,j+1] if x in range(0,len(m)) and y in range(0,len(m[x])) and (x,y) != (i,j) and (x,y) != (i-1,j-1) and (x,y) != (i-1,j+1) and (x,y) != (i+1,j-1) and (x,y) != (i+1,j+1)]\n",
    "\n",
    "def SIRS(A, t_i, t_r): #input- matrix, t_i, t_r\n",
    "    \n",
    "    t_0 = t_i + t_r\n",
    "    B= A.copy()\n",
    "    k={1,2,3,4}\n",
    "    for i in range(1, len(A)-1):\n",
    "        for j in range(1, len(A)-1):\n",
    "            \n",
    "            if (((B[i][j]/t_0 - B[i][j]//t_0)==0)):\n",
    "                n = set(neighboursvalue(A,i,j)) \n",
    "                if (len(n.intersection(k))!=0):\n",
    "                    inf_count = len([k for k in neighboursvalue(A,i,j) if (k <5 and k>0)])\n",
    "                    rand= random.randint(1,4)\n",
    "                    if (inf_count>=rand):\n",
    "                    #if len(neighboursvalue)\n",
    "                        B[i][j] = 1\n",
    "                else:\n",
    "                    B[i][j] = 0\n",
    "            else:\n",
    "                B[i][j]+=1           \n",
    "\n",
    "    C = B.copy()        #creating copy of B matrix to impose conditions\n",
    "    sus=[]\n",
    "    ref=[]\n",
    "    inf=[]\n",
    "    \n",
    "    for i in range(1, len(B)-1):\n",
    "        for j in range(1, len(B)-1):\n",
    "            if((B[i][j]/t_0 - B[i][j]//t_0)==0):        # Susceptible stage (t=0)\n",
    "                C[i][j] =0\n",
    "                sus.append(0)\n",
    "            elif((B[i][j]/t_0 - B[i][j]//t_0)>0 and (B[i][j]/t_0 - B[i][j]//t_0) <= t_i/t_0):  # Infected stage (1<=t<=4)\n",
    "                C[i][j] =2\n",
    "                inf.append(2)\n",
    "            elif((B[i][j]/t_0 - B[i][j]//t_0)>t_i/t_0 and (B[i][j]/t_0 - B[i][j]//t_0) <= t_i +t_r/t_0):   # Refractory stage (5<=t<=9)\n",
    "                C[i][j] =1\n",
    "                ref.append(1)\n",
    "\n",
    "    tot_sus = len(sus)\n",
    "    tot_ref = len(ref)\n",
    "    tot_inf = len(inf)\n",
    "                \n",
    "\n",
    "    return B, C, tot_sus, tot_ref, tot_inf  "
   ]
  },
  {
   "cell_type": "code",
   "execution_count": 214,
   "metadata": {},
   "outputs": [
    {
     "data": {
      "image/png": "[encoded data removed]",
      "text/plain": [
       "<Figure size 288x288 with 2 Axes>"
      ]
     },
     "metadata": {
      "needs_background": "light"
     },
     "output_type": "display_data"
    }
   ],
   "source": [
    "A= Matrix(75)\n",
    "t_i= 4\n",
    "t_r= 9\n",
    "\n",
    "plt.matshow(A, cmap=cmap)\n",
    "plt.suptitle('Day = 1')\n",
    "plt.colorbar()\n",
    "save_results_to = 'D:/IISER Mohali Majors/Sem VIII/IDC 621 Modelling Complex Systems/Cellular Atomata/Plots/Probabilistic1/'\n",
    "plt.savefig(save_results_to + 'Day 1.png', dpi = 300)\n",
    "#plt.close()\n",
    "plt.show()"
   ]
  },
  {
   "cell_type": "code",
   "execution_count": 215,
   "metadata": {},
   "outputs": [
    {
     "name": "stdout",
     "output_type": "stream",
     "text": [
      "Computing: [##################################################] 100/100\n"
     ]
    }
   ],
   "source": [
    "susceptible=[]\n",
    "refractory=[]\n",
    "infected=[]\n",
    "for i in progressbar(range(100), \"Computing: \", 50):\n",
    "    \n",
    "    plt.matshow(SIRS(A, t_i, t_r)[1] ,cmap=cmap)\n",
    "    plt.colorbar()\n",
    "    plt.suptitle('Day '+str(i+2))\n",
    "    save_results_to = 'D:/IISER Mohali Majors/Sem VIII/IDC 621 Modelling Complex Systems/Cellular Atomata/Plots/Probabilistic1/'\n",
    "    plt.savefig(save_results_to + 'Day '+str(i+2)+'.png', dpi = 300)\n",
    "    plt.close()\n",
    "\n",
    "    A= SIRS(A, t_i, t_r)[0]\n",
    "    susceptible.append(SIRS(A, t_i, t_r)[2])\n",
    "    refractory.append(SIRS(A, t_i, t_r)[3])\n",
    "    infected.append(SIRS(A, t_i, t_r)[4])\n",
    "    \n",
    "    time.sleep(0.1)"
   ]
  },
  {
   "cell_type": "code",
   "execution_count": 216,
   "metadata": {},
   "outputs": [
    {
     "data": {
      "image/png": "[encoded data removed]",
      "text/plain": [
       "<Figure size 432x288 with 1 Axes>"
      ]
     },
     "metadata": {
      "needs_background": "light"
     },
     "output_type": "display_data"
    }
   ],
   "source": [
    "days= np.linspace(1, len(infected), len(infected))\n",
    "plt.suptitle('Frequency of Individuals with Time (in days)')\n",
    "plt.ylabel('No. of Individuals')\n",
    "plt.xlabel('Time (in days)')\n",
    "plt.plot(days, susceptible, color='b')\n",
    "plt.plot(days, refractory, color='g')\n",
    "plt.plot(days, infected, color='r')\n",
    "plt.legend(['susceptible','refractory','infected'])\n",
    "save_results_to = 'D:/IISER Mohali Majors/Sem VIII/IDC 621 Modelling Complex Systems/Cellular Atomata/Plots/Probabilistic1/'\n",
    "plt.savefig(save_results_to + 'Probabilistic_Plot4.png', dpi = 300)\n",
    "#plt.close()\n",
    "plt.show()"
   ]
  },
  {
   "cell_type": "code",
   "execution_count": 130,
   "metadata": {},
   "outputs": [],
   "source": [
    "#def indexes(row,col):\n",
    "X=10\n",
    "Y=10\n",
    "\n",
    "def indexes(x,y):\n",
    "    X=10\n",
    "    Y=10\n",
    "    neighbors = lambda x, y : [(x2, y2) for x2 in range(x-1, x+2)\n",
    "                               for y2 in range(y-1, y+2)\n",
    "                               if (-1 < x <= X and\n",
    "                                   -1 < y <= Y and\n",
    "                                   (x != x2 or y != y2) and\n",
    "                                   (0 <= x2 <= X) and\n",
    "                                   (0 <= y2 <= Y))]\n",
    "    return(neighbors(x,y))"
   ]
  },
  {
   "cell_type": "code",
   "execution_count": 272,
   "metadata": {},
   "outputs": [
    {
     "name": "stdout",
     "output_type": "stream",
     "text": [
      "(4, 6) \t [4, 6]\n",
      "(4, 7) \t [4, 7]\n",
      "(5, 7) \t [5, 7]\n",
      "(5, 5) \t [5, 5]\n"
     ]
    }
   ],
   "source": [
    "def removeDuplicates(lst): \n",
    "      \n",
    "    return [t for t in (set(tuple(i) for i in lst))]\n",
    "\n",
    "def random_neighbours(i,j):\n",
    "    m = indexes(i,j)\n",
    "    k = random.randint(1,8)\n",
    "    sampling = random.choices(m,k=k)\n",
    "    unique=removeDuplicates(sampling)\n",
    "#np.random.choice(m, 3, p=[0.125, 0.125, 0.125, 0.125, 0.125, 0.125, 0.125, 0.125])\n",
    "    return(unique)\n",
    "\n",
    "ind = random_neighbours(5,6)\n",
    "for values in ind:\n",
    "    print(values, '\\t', [values[0],values[1]])"
   ]
  },
  {
   "cell_type": "code",
   "execution_count": 269,
   "metadata": {},
   "outputs": [
    {
     "name": "stdout",
     "output_type": "stream",
     "text": [
      "[(1, 2)]\n",
      "[(0, 2)]\n",
      "[(1, 0), (0, 2)]\n",
      "[(2, 0), (1, 0), (0, 2), (2, 1)]\n",
      "[(1, 2), (0, 1), (0, 0), (2, 2), (1, 0), (0, 2)]\n"
     ]
    }
   ],
   "source": [
    "for i in range(5):\n",
    "    print(random_neighbours(1,1))"
   ]
  },
  {
   "cell_type": "code",
   "execution_count": 285,
   "metadata": {},
   "outputs": [
    {
     "data": {
      "text/plain": [
       "7"
      ]
     },
     "execution_count": 285,
     "metadata": {},
     "output_type": "execute_result"
    }
   ],
   "source": [
    "random.randint(1,8)"
   ]
  },
  {
   "cell_type": "markdown",
   "metadata": {},
   "source": [
    "### First order Moore and second order Van-Neumann comparison"
   ]
  },
  {
   "cell_type": "code",
   "execution_count": 242,
   "metadata": {},
   "outputs": [],
   "source": [
    "import matplotlib.pyplot as plt\n",
    "import time\n",
    "import sys\n",
    "import numpy as np\n",
    "from matplotlib import cm \n",
    "from matplotlib.colors import ListedColormap\n",
    "import random\n",
    "import os\n",
    "\n",
    "cmap = ListedColormap(['w', 'k', 'r'])\n",
    "\n",
    "def progressbar(it, prefix=\"\", size=60, file=sys.stdout):\n",
    "    count = len(it)\n",
    "    def show(j):\n",
    "        x = int(size*j/count)\n",
    "        file.write(\"%s[%s%s] %i/%i\\r\" % (prefix, \"#\"*x, \".\"*(size-x), j, count))\n",
    "        file.flush()        \n",
    "    show(0)\n",
    "    for i, item in enumerate(it):\n",
    "        yield item\n",
    "        show(i+1)\n",
    "    file.write(\"\\n\")\n",
    "    file.flush()\n",
    "\n",
    "def removeDuplicates(lst): \n",
    "      \n",
    "    return [t for t in (set(tuple(i) for i in lst))]\n",
    "\n",
    "def random_neighbours(i,j):\n",
    "    m = indexes(i,j)\n",
    "    k = random.randint(1,8)\n",
    "    sampling = random.choices(m,k=k)\n",
    "    unique=removeDuplicates(sampling)\n",
    "#np.random.choice(m, 3, p=[0.125, 0.125, 0.125, 0.125, 0.125, 0.125, 0.125, 0.125])\n",
    "    return(unique)  \n",
    "    \n",
    "def Matrix(n):\n",
    "    A= np.zeros((n,n), int)    # defining a matrix \n",
    "    \n",
    "    # Boundary conditions\n",
    "    for i in range(len(A)-1):\n",
    "        A[0][i]=0\n",
    "        A[n-1][i]=0\n",
    "        A[i][0]=0\n",
    "        A[i][n-1]=0\n",
    "\n",
    "   # initial conditions\n",
    "    A[60][65]=1\n",
    "    A[55][20]=1\n",
    "    A[10][60]=1\n",
    "    A[35][30]=1\n",
    "    A[5][25]=1\n",
    "    A[65][45]=1\n",
    "    A[40][55]=1\n",
    "    A[20][40]=1\n",
    "    A[45][5]=1\n",
    "    A[20][10]=1\n",
    "\n",
    "    return A\n",
    "\n",
    "def Count_Infected(Arr):\n",
    "    count=0\n",
    "    for i in Arr:\n",
    "        if i>0 and i<5:\n",
    "            count+=1\n",
    "    return count        \n",
    "\n",
    "\n",
    "def sec_neighboursvalue(m, i, j):  #gives the value of neighbours (8 in total)\n",
    "    return [m[x][y] for x in [i-2,i-1,i,i+1,i+2] for y in [j-2,j-1,j,j+1,j+2] if x in range(0,len(m)) and y in range(0,len(m[x])) and (x,y) != (i-2,j-2)  and (x,y) != (i-2,j-1) and (x,y) != (i-2,j+1) and (x,y) != (i-2,j+2) and (x,y) != (i-1,j-2) and (x,y) != (i-1,j) and (x,y) != (i-1,j+2) and (x,y) != (i,j-1) and (x,y) != (i,j) and (x,y) != (i,j+1) and (x,y) != (i+1,j-2) and (x,y) != (i+1,j) and (x,y) != (i+1,j+2) and (x,y) != (i+2,j-2) and (x,y) != (i+2,j-1) and (x,y) != (i+2,j+1) and (x,y) != (i+2,j+2) ]\n",
    "\n",
    "def SIRS(A, t_i, t_r): #input- matrix, t_i, t_r\n",
    "    \n",
    "    t_0 = t_i + t_r\n",
    "    B= A.copy()\n",
    "    k={1,2,3,4}\n",
    "    for i in range(1, len(A)-1):\n",
    "        for j in range(1, len(A)-1):\n",
    "            \n",
    "            if (((B[i][j]/t_0 - B[i][j]//t_0)==0)):\n",
    "                n = set(neighboursvalue(A,i,j)) \n",
    "                if (len(n.intersection(k))!=0):\n",
    "                    inf_count = len([k for k in neighboursvalue(A,i,j) if (k <5 and k>0)])\n",
    "                    rand= random.randint(1,4)\n",
    "                    if (inf_count>=rand):\n",
    "                    #if len(neighboursvalue)\n",
    "                        B[i][j] = 1\n",
    "                else:\n",
    "                    B[i][j] = 0\n",
    "            else:\n",
    "                B[i][j]+=1           \n",
    "\n",
    "    C = B.copy()        #creating copy of B matrix to impose conditions\n",
    "    sus=[]\n",
    "    ref=[]\n",
    "    inf=[]\n",
    "    \n",
    "    for i in range(1, len(B)-1):\n",
    "        for j in range(1, len(B)-1):\n",
    "            if((B[i][j]/t_0 - B[i][j]//t_0)==0):        # Susceptible stage (t=0)\n",
    "                C[i][j] =0\n",
    "                sus.append(0)\n",
    "            elif((B[i][j]/t_0 - B[i][j]//t_0)>0 and (B[i][j]/t_0 - B[i][j]//t_0) <= t_i/t_0):  # Infected stage (1<=t<=4)\n",
    "                C[i][j] =2\n",
    "                inf.append(2)\n",
    "            elif((B[i][j]/t_0 - B[i][j]//t_0)>t_i/t_0 and (B[i][j]/t_0 - B[i][j]//t_0) <= t_i +t_r/t_0):   # Refractory stage (5<=t<=9)\n",
    "                C[i][j] =1\n",
    "                ref.append(1)\n",
    "\n",
    "    tot_sus = len(sus)\n",
    "    tot_ref = len(ref)\n",
    "    tot_inf = len(inf)\n",
    "                \n",
    "\n",
    "    return B, C, tot_sus, tot_ref, tot_inf  "
   ]
  },
  {
   "cell_type": "code",
   "execution_count": 243,
   "metadata": {},
   "outputs": [
    {
     "data": {
      "image/png": "[encoded data removed]",
      "text/plain": [
       "<Figure size 288x288 with 2 Axes>"
      ]
     },
     "metadata": {
      "needs_background": "light"
     },
     "output_type": "display_data"
    }
   ],
   "source": [
    "A= Matrix(75)\n",
    "t_i= 4\n",
    "t_r= 9\n",
    "\n",
    "plt.matshow(A, cmap=cmap)\n",
    "plt.suptitle('Day = 1')\n",
    "plt.colorbar()\n",
    "save_results_to = 'D:/IISER Mohali Majors/Sem VIII/IDC 621 Modelling Complex Systems/Cellular Atomata/Plots/Comparison/Probabilistic/'\n",
    "plt.savefig(save_results_to + 'V_Day 1.png', dpi = 300)\n",
    "#plt.close()\n",
    "plt.show()"
   ]
  },
  {
   "cell_type": "code",
   "execution_count": 244,
   "metadata": {},
   "outputs": [
    {
     "name": "stdout",
     "output_type": "stream",
     "text": [
      "Computing: [##################################################] 100/100\n"
     ]
    }
   ],
   "source": [
    "susceptible=[]\n",
    "refractory=[]\n",
    "infected=[]\n",
    "for i in progressbar(range(100), \"Computing: \", 50):\n",
    "    \n",
    "    plt.matshow(SIRS(A, t_i, t_r)[1] ,cmap=cmap)\n",
    "    plt.colorbar()\n",
    "    plt.suptitle('Day '+str(i+2))\n",
    "    save_results_to = 'D:/IISER Mohali Majors/Sem VIII/IDC 621 Modelling Complex Systems/Cellular Atomata/Plots/Comparison/Probabilistic/'\n",
    "    plt.savefig(save_results_to + 'V_Day '+str(i+2)+'.png', dpi = 300)\n",
    "    plt.close()\n",
    "\n",
    "    A= SIRS(A, t_i, t_r)[0]\n",
    "    susceptible.append(SIRS(A, t_i, t_r)[2])\n",
    "    refractory.append(SIRS(A, t_i, t_r)[3])\n",
    "    infected.append(SIRS(A, t_i, t_r)[4])\n",
    "    \n",
    "    time.sleep(0.1)"
   ]
  },
  {
   "cell_type": "code",
   "execution_count": 245,
   "metadata": {},
   "outputs": [
    {
     "data": {
      "image/png": "[encoded data removed]",
      "text/plain": [
       "<Figure size 432x288 with 1 Axes>"
      ]
     },
     "metadata": {
      "needs_background": "light"
     },
     "output_type": "display_data"
    }
   ],
   "source": [
    "days= np.linspace(1, len(infected), len(infected))\n",
    "plt.suptitle('Frequency of Individuals with Time (in days)')\n",
    "plt.ylabel('No. of Individuals')\n",
    "plt.xlabel('Time (in days)')\n",
    "plt.plot(days, susceptible, color='b')\n",
    "plt.plot(days, refractory, color='g')\n",
    "plt.plot(days, infected, color='r')\n",
    "plt.legend(['susceptible','refractory','infected'])\n",
    "save_results_to = 'D:/IISER Mohali Majors/Sem VIII/IDC 621 Modelling Complex Systems/Cellular Atomata/Plots/Comparison/Probabilistic/'\n",
    "plt.savefig(save_results_to + 'V_Probabilistic_Plot.png', dpi = 300)\n",
    "#plt.close()\n",
    "plt.show()"
   ]
  }
 ],
 "metadata": {
  "kernelspec": {
   "display_name": "Python 3",
   "language": "python",
   "name": "python3"
  },
  "language_info": {
   "codemirror_mode": {
    "name": "ipython",
    "version": 3
   },
   "file_extension": ".py",
   "mimetype": "text/x-python",
   "name": "python",
   "nbconvert_exporter": "python",
   "pygments_lexer": "ipython3",
   "version": "3.7.3"
  }
 },
 "nbformat": 4,
 "nbformat_minor": 4
}
